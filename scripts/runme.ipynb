{
 "cells": [
  {
   "cell_type": "markdown",
   "metadata": {},
   "source": [
    "# Setup"
   ]
  },
  {
   "cell_type": "code",
   "execution_count": null,
   "metadata": {},
   "outputs": [],
   "source": [
    "from pathlib import Path\n",
    "import platform\n",
    "import os\n",
    "import shutil\n",
    "import time\n",
    "import numpy as np\n",
    "import pandas as pd\n",
    "from pprint import pprint\n",
    "import matplotlib.pylab as plt\n",
    "import spikeinterface.full as si    # may need to run pip install in the spikeinterface folder first\n",
    "import probeinterface as pi\n",
    "import warnings\n",
    "warnings.filterwarnings(\"ignore\", category=DeprecationWarning)\n",
    "# import ipywidgets\n",
    "%matplotlib widget\n",
    "\n",
    "# Import my custom modules\n",
    "from src import spikeinterface_hp \n",
    "# from src import rhdutilities \n",
    "from src import load_probe_rhd \n",
    "import importlib  # Allow module reloads in case any changes were made after starting the kernel: importlib.reload(spikeinterface_hp)\n",
    "\n",
    "# Add path to kilosort2 and ironclust repos\n",
    "si.Kilosort2Sorter.set_kilosort2_path(Path.resolve(Path('../../Kilosort-2.0')))\n",
    "si.IronClustSorter.set_ironclust_path(Path.resolve(Path('../../ironclust')))\n",
    "\n",
    "# Print SI version\n",
    "print(f\"SpikeInterface version: {si.__version__}\")\n",
    "\n",
    "# Print list of installed sorters\n",
    "# print(si.installed_sorters())"
   ]
  },
  {
   "cell_type": "markdown",
   "metadata": {},
   "source": [
    "Option 1: Make toy example recording data in the results folder"
   ]
  },
  {
   "cell_type": "code",
   "execution_count": null,
   "metadata": {},
   "outputs": [],
   "source": [
    "%%script False\n",
    "\n",
    "# Set paths that are used throughout: results and data\n",
    "results_path = Path.resolve(Path('..','results')) \n",
    "print(results_path)\n",
    "data_path = results_path/'toy_example_recording'\n",
    "print(data_path)\n",
    "\n",
    "# Make the toy example in the data folder\n",
    "if not data_path.exists():\n",
    "    recording_raw, sorting = si.toy_example(num_segments=1, duration=100, seed=1, num_channels=16, num_columns=2)\n",
    "    recording_raw.save(folder=data_path)\n",
    "    print('Created toy data')\n",
    "else:\n",
    "    print('Toy data already exists')\n",
    "\n",
    "recording_raw = si.load_extractor(data_path)\n",
    "recording_cmr = recording_raw # It is already filtered and common median filtered"
   ]
  },
  {
   "cell_type": "markdown",
   "metadata": {},
   "source": [
    "Option 2: Load REAL data from the server"
   ]
  },
  {
   "cell_type": "code",
   "execution_count": null,
   "metadata": {},
   "outputs": [],
   "source": [
    "# Set paths that are used throughout: results and data\n",
    "results_path = Path('Z:/Hannah/ephys/project2/HC05_220819')   #  A 32 channel recording, shank A only\n",
    "# results_path = Path('Z:/Hannah/ephys/project2/test64b')    # A short 64 channel recording (all noise, no real spikes)\n",
    "data_path = [f for f in results_path.iterdir() if f.is_dir() and f.name.startswith('raw')] # subfolder starting with raw*. Should only be one!\n",
    "data_path = data_path[0] # Set data_path to the folder containing the intan.rhd file etc\n",
    "print(data_path)\n",
    "\n",
    "importlib.reload(spikeinterface_hp)\n",
    "recording_raw = spikeinterface_hp.read_intan_dat(data_path)\n",
    "\n",
    "# Load the probe for this file\n",
    "importlib.reload(load_probe_rhd)\n",
    "probe = load_probe_rhd.H6(data_path/'info.rhd', results_path/'probe.json')\n",
    "recording_raw = recording_raw.set_probe(probe, group_mode=\"by_shank\")\n",
    "\n",
    "# Visualizations/checks\n",
    "probe = recording_raw.get_probe() # sorts by index in .dat file\n",
    "print(probe.to_dataframe(complete=True).loc[:, ['x','y','contact_ids', 'shank_ids', 'device_channel_indices']])\n",
    "pi.plotting.plot_probe(probe, with_channel_index=True) \n",
    "# pi.plotting.plot_probe(probe, with_device_index=True) # Now the channel index matches the device index bc it was sorted\n"
   ]
  },
  {
   "cell_type": "markdown",
   "metadata": {},
   "source": [
    "Using a built in probe:"
   ]
  },
  {
   "cell_type": "code",
   "execution_count": null,
   "metadata": {},
   "outputs": [],
   "source": [
    "%%script false # Don't run this cell!\n",
    "\n",
    "# Built-in probe\n",
    "manufacturer = 'cambridgeneurotech'\n",
    "probe_name = 'ASSY-236-H6'\n",
    "probe = pi.get_probe(manufacturer, probe_name)  \n",
    "\n",
    "# map channels to device indices\n",
    "mapping_to_device = [\n",
    "53,55,61,63,62,60,58,56,54,52,50,46,48,47,43,45,57,59,42,40,38,36,34,44,32,30,28,26,24,22,23,27,51,49,0,2,4,6,8,7,10,12,14,16,18,20,21,19,41,39,37,35,33,31,29,25,17,9,11,15,13,5,3,1\n",
    "]\n",
    "probe.set_device_channel_indices(mapping_to_device)\n",
    "# probe.wiring_to_device('ASSY-236>RHD2164') # Built-in\n",
    "\n",
    "fig, ax = plt.subplots()\n",
    "pi.plotting.plot_probe(probe, with_device_index=True, ax=ax) # with_contact_id=True\n",
    "pprint(probe.to_dataframe(complete=True).loc[:, ['x','y','contact_ids', 'shank_ids', 'device_channel_indices']])\n",
    "\n",
    "# Load the probeinterface object to the SI recording object:\n",
    "recording_raw = recording_raw.set_probe(probe, group_mode=\"by_shank\")\n",
    "\n",
    "# When loading the probe, it is automatically sorted by device indices (the order the data is stored on disk):\n",
    "probe_rec = recording_raw.get_probe()\n",
    "print(probe_rec.to_dataframe(complete=True).loc[:, [\"contact_ids\", \"shank_ids\", \"device_channel_indices\"]])\n",
    "print(\"Properties after loading the probe:\", list(recording_raw.get_property_keys()))\n"
   ]
  },
  {
   "cell_type": "markdown",
   "metadata": {},
   "source": [
    "Bandpass filter and apply common median reference"
   ]
  },
  {
   "cell_type": "code",
   "execution_count": null,
   "metadata": {},
   "outputs": [],
   "source": [
    "# Extract 10 minute segment for testing purposes\n",
    "# fs = recording_raw.get_sampling_frequency()\n",
    "# recording_raw = recording_raw.frame_slice(start_frame=0*fs, end_frame=300*fs)\n",
    "\n",
    "# Filter\n",
    "recording_f = si.highpass_filter(recording_raw, freq_min=300) # Not recommended to throw out high frequencies before sortin\n",
    "recording_cmr = si.common_reference(recording_f, reference='global', operator='median')\n",
    "\n",
    "# Plot the traces after applying CMR:\n",
    "# w = si.plot_timeseries({\"filt\": recording_f, \"common\": recording_cmr}, \n",
    "#   clim=(-1000, 1000), order_channel_by_depth=False,show_channel_ids=True, backend=\"ipywidgets\") #ipywidgets only works in browser - run jupyter notebook in anaconda prompt\n",
    "w = si.plot_timeseries({\"filt\": recording_f, \"common\": recording_cmr},\n",
    "    order_channel_by_depth=False, time_range=[10,11], channel_ids=range(16), show_channel_ids=True)\n",
    "# Note: if order_by_channel_depth=True, the order is messed up between the two inputs!\n",
    "\n",
    "# Cache the filtered recording to speed some things up later? and allow phy to load it?\n",
    "# recording_cmr_folder = Path('C:/Temp/spikeinterface')\n",
    "# while os.path.isdir(recording_cmr_folder): shutil.rmtree(recording_cmr_folder, ignore_errors=True)\n",
    "# recording_saved = recording_cmr.save(folder=recording_cmr_folder, n_jobs=-1, total_memory=\"2G\") # , n_jobs=-1, total_memory=\"10G\"\n",
    "# print(recording_cmr.get_binary_description()['file_paths'])\n",
    "\n",
    "# If it's already saved\n",
    "# recording_cmr = si.load_extractor(recording_cmr_folder)"
   ]
  },
  {
   "cell_type": "markdown",
   "metadata": {},
   "source": [
    "General sorting/waveform/phy settings"
   ]
  },
  {
   "cell_type": "code",
   "execution_count": null,
   "metadata": {},
   "outputs": [],
   "source": [
    "# waveform extractor settings\n",
    "ms_before = 1.5 # default 3\n",
    "ms_after = 2.5  # default 4\n",
    "max_spikes_per_unit = 500\n",
    "\n",
    "# export_to_phy setting\n",
    "max_ch_per_template = 8\n",
    "chunk_duration = '10s'\n",
    "n_jobs = -1"
   ]
  },
  {
   "cell_type": "markdown",
   "metadata": {},
   "source": [
    "# Run spikesorting\n",
    "\n",
    "Note: make sure your startup.m file in Matlab doesn't change the current directory!"
   ]
  },
  {
   "cell_type": "markdown",
   "metadata": {},
   "source": [
    "Change Kilosort2 params"
   ]
  },
  {
   "cell_type": "code",
   "execution_count": null,
   "metadata": {},
   "outputs": [],
   "source": [
    "default_kilosort2_params = si.Kilosort2Sorter.default_params()\n",
    "pprint(default_kilosort2_params)\n",
    "# default_kilosort2_params['reorder'] = 0 # Can't access this?\n",
    "#TODO: increase batch size to avoid losing sparsely active cells?\n",
    "default_kilosort2_params['freq_min'] = 300            # SC setting: 150->300. Keep it on even if pre-filtering https://github.com/MouseLand/Kilosort/issues/276\n",
    "\n",
    "# default_kilosort2_params['minFR'] = 0.02              # Default in Matlab is 0.02, default in SI is 0.1\n",
    "# default_kilosort2_params['minfr_goodchannels'] = 0.02 # Default in Matlab is 0.02, default in SI is 0.1\n",
    "# default_kilosort2_params['NT'] = 64*1024+default_kilosort2_params['ntbuff'] # SC increased to 4*64*1024+ope.ntbuff (128)\n",
    "\n",
    "# default_kilosort2_params['car'] = False               # Already did this\n",
    "# default_kilosort2_params['nfilt_factor'] = 8 # SC increased from 4 to 8 # max number of clusters per good channel (even temporary ones)\n",
    "\n",
    "# default_kilosort2_params['detectArtifacts'] = False\n",
    "# ops.nfilt_factor        = 8;    % (SC changed from 4) % max number of clusters per good channel (even temporary ones)\n",
    "# ops.ntbuff              = 128;  % (SC changed from 64) % samples of symmetrical buffer for whitening and spike detection\n"
   ]
  },
  {
   "cell_type": "markdown",
   "metadata": {},
   "source": [
    "Run kilosort2"
   ]
  },
  {
   "cell_type": "code",
   "execution_count": null,
   "metadata": {},
   "outputs": [],
   "source": [
    "# Run sorter\n",
    "sorter_name = 'kilosort2'\n",
    "sorting_folder = results_path/(sorter_name+'_output')\n",
    "sorting = si.run_sorter(sorter_name, recording_cmr, sorting_folder, verbose=True, remove_existing_folder=True) # **default_kilosort2_params. Use recording_cmr instead??\n",
    "print(sorting_folder)\n",
    "print(sorting)\n",
    "os.remove(sorting_folder/'temp_wh.dat') # Remove large temporary file\n",
    "\n",
    "# Save sorting in spike interface .npz format\n",
    "sorting_save_path = results_path/(sorter_name+'_si_output')\n",
    "sorting.save(folder=sorting_save_path)\n",
    "print(sorting_save_path)\n",
    "\n",
    "# TODO: Delete original sorting folder after it is exported, either to Phy, or skip the waveforms/phy export, and save sorting as npz format?\n"
   ]
  },
  {
   "cell_type": "code",
   "execution_count": 49,
   "metadata": {},
   "outputs": [
    {
     "name": "stdout",
     "output_type": "stream",
     "text": [
      "Z:\\Hannah\\ephys\\project2\\HC05_220819\\kilosort2_waveforms\n",
      "Z:\\Hannah\\ephys\\project2\\HC05_220819\\kilosort2_phy\n",
      "Run:\n",
      "phy template-gui  Z:\\Hannah\\ephys\\project2\\HC05_220819\\kilosort2_phy\\params.py\n"
     ]
    }
   ],
   "source": [
    "# %%script false\n",
    "\n",
    "# To export the original sortings to phy:\n",
    "sorter_name = 'kilosort2'\n",
    "output_folder = results_path/(sorter_name+'_si_output')\n",
    "\n",
    "# Extract waveforms\n",
    "waveform_folder = results_path/(sorter_name+'_waveforms')\n",
    "print(waveform_folder)\n",
    "sorting = si.load_extractor(output_folder) # Load the sorting results (only needed if picking up from here)\n",
    "we = si.extract_waveforms(recording_raw, sorting, waveform_folder, return_scaled=True, overwrite=True, # TODO check effect of raw or cmr??\n",
    "    n_jobs=n_jobs, chunk_duration=chunk_duration, max_spikes_per_unit=max_spikes_per_unit,ms_before=ms_before, ms_after=ms_after) #total_memory=\"10M\",  \n",
    "    #NOTE: return_scaled: If True and recording has gain_to_uV/offset_to_uV properties, waveforms are converted to uV.\n",
    "\n",
    "# Export to phy\n",
    "we = si.WaveformExtractor.load_from_folder(waveform_folder) # Load the waveforms results (only needed if picking up from here)\n",
    "we.recording = recording_raw # Just do this so that the path to the raw .dat file is stored in params.py\n",
    "phy_folder =  results_path/(sorter_name+'_phy')\n",
    "print(phy_folder)\n",
    "si.export_to_phy(we, output_folder=phy_folder,remove_if_exists=True,copy_binary=False,compute_amplitudes=True,\n",
    "    max_channels_per_template=max_ch_per_template, chunk_duration=chunk_duration, n_jobs=n_jobs) "
   ]
  },
  {
   "cell_type": "markdown",
   "metadata": {},
   "source": [
    "Run Ironclust"
   ]
  },
  {
   "cell_type": "code",
   "execution_count": null,
   "metadata": {},
   "outputs": [],
   "source": [
    "# Run sorter\n",
    "sorter_name = 'ironclust'\n",
    "sorting_folder = results_path/(sorter_name+'_output')\n",
    "sorting = si.run_sorter(sorter_name, recording_raw, sorting_folder, verbose=True, remove_existing_folder=True) # filter=False, detect_threshold=1\n",
    "print(sorting)\n",
    "\n",
    "# Save sorting in spike interface .npz format\n",
    "sorting_folder = results_path/(sorter_name+'_si_output')\n",
    "sorting.save(folder=sorting_folder)\n",
    "print(sorting_folder)"
   ]
  },
  {
   "cell_type": "code",
   "execution_count": null,
   "metadata": {},
   "outputs": [],
   "source": [
    "%%script false\n",
    "\n",
    "# Get waveforms\n",
    "waveform_folder = results_path/(sorter_name+'_waveforms')\n",
    "we = si.extract_waveforms(recording_cmr, sorting, waveform_folder,return_scaled=True, overwrite=True,\n",
    "    n_jobs=n_jobs, chunk_duration=chunk_duration, max_spikes_per_unit=max_spikes_per_unit,ms_before=ms_before, ms_after=ms_after)\n",
    "\n",
    "# Export to Phy\n",
    "phy_folder = results_path/(sorter_name+'_phy')\n",
    "si.export_to_phy(we, sorting_folder=phy_folder,remove_if_exists=True,copy_binary=False,compute_amplitudes=True,\n",
    "    max_channels_per_template=max_ch_per_template, chunk_duration=chunk_duration, n_jobs=n_jobs) "
   ]
  },
  {
   "cell_type": "markdown",
   "metadata": {},
   "source": [
    "# Post-processing"
   ]
  },
  {
   "cell_type": "markdown",
   "metadata": {},
   "source": [
    "Get Quality metrics for KS sorting"
   ]
  },
  {
   "cell_type": "code",
   "execution_count": null,
   "metadata": {},
   "outputs": [
    {
     "name": "stderr",
     "output_type": "stream",
     "text": [
      "d:\\hannah\\dropbox\\code\\spikesort\\spikeinterface\\spikeinterface\\qualitymetrics\\misc_metrics.py:404: UserWarning: Amplitude PDF does not have a unique minimum! More spikes might be required for a correct amplitude_cutoff computation!\n",
      "  warnings.warn(\"Amplitude PDF does not have a unique minimum! More spikes might be required for a correct \"\n"
     ]
    }
   ],
   "source": [
    "# Get quality metrics for all KS sorting\n",
    "waveform_folder = results_path/'kilosort2_waveforms'\n",
    "we = si.WaveformExtractor.load_from_folder(waveform_folder) # Load the waveforms results (only needed if picking up from here)\n",
    "metric_names=['snr', 'isi_violation', 'amplitude_cutoff','isolation_distance','firing_rate']\n",
    "# NOTE: isi_violations_rate: \"Rate of contaminating spikes as a fraction of overall rate. Higher values indicate more contamination\" (== #sp_bad/#sp_total)\n",
    "# Q: how to set bin width and refractory period for ISI violations?\n",
    "\n",
    "qm = si.compute_quality_metrics(we,load_if_exists=True,metric_names=metric_names)\n",
    "qm = qm.drop('isi_violations_ratio')\n",
    "score_filename = results_path/'si_qm.csv'\n",
    "qm.to_csv(score_filename)\n"
   ]
  },
  {
   "cell_type": "markdown",
   "metadata": {},
   "source": [
    "Load the two sortings"
   ]
  },
  {
   "cell_type": "code",
   "execution_count": null,
   "metadata": {},
   "outputs": [],
   "source": [
    "# Load sortings from .npz format (SI preferred):\n",
    "sorting_ks = si.load_extractor(results_path/('kilosort2_si_output')) # Load the sorting results (only needed if picking up from here)\n",
    "sorting_ic = si.load_extractor(results_path/('ironclust_si_output')) # Load the sorting results (only needed if picking up from here)\n",
    "\n",
    "# Load sortings - from kilosort2/ironclust output folder\n",
    "# sorting_ks = si.read_kilosort(results_path/'kilosort2_output')\n",
    "# sorting_ic = si.read_mda_sorting(results_path/'ironclust_output'/'tmp'/'firings.mda',sampling_frequency=recording_raw.get_sampling_frequency()) #_get_result_from_folder? read_mda_sorting\n",
    "\n",
    "# Load sortings - from phy folder\n",
    "# sorting_ks = si.read_phy(results_path/'kilosort2_phy') # Alternate if saved as phy\n",
    "# sorting_ic = si.read_phy(results_path/'ironclust_phy') # Alternate if saved as phy\n",
    "\n",
    "sub = '' #add onto output folders\n"
   ]
  },
  {
   "cell_type": "markdown",
   "metadata": {},
   "source": [
    "Option 1: Compare with one as reference"
   ]
  },
  {
   "cell_type": "code",
   "execution_count": 86,
   "metadata": {},
   "outputs": [
    {
     "name": "stdout",
     "output_type": "stream",
     "text": [
      "<class 'pandas.core.series.Series'>\n",
      "0     -1.0\n",
      "1     -1.0\n",
      "2      9.0\n",
      "3      8.0\n",
      "4     -1.0\n",
      "5     10.0\n",
      "6     -1.0\n",
      "7     14.0\n",
      "8     13.0\n",
      "9     -1.0\n",
      "10    -1.0\n",
      "11    17.0\n",
      "12    20.0\n",
      "13    -1.0\n",
      "14    -1.0\n",
      "15    -1.0\n",
      "16    21.0\n",
      "17    -1.0\n",
      "18    -1.0\n",
      "19    -1.0\n",
      "20    27.0\n",
      "21    -1.0\n",
      "22    25.0\n",
      "23     5.0\n",
      "24    -1.0\n",
      "25    -1.0\n",
      "26    -1.0\n",
      "27    -1.0\n",
      "28    -1.0\n",
      "29    -1.0\n",
      "30    -1.0\n",
      "31    -1.0\n",
      "32    -1.0\n",
      "33    33.0\n",
      "34    -1.0\n",
      "35    -1.0\n",
      "36    -1.0\n",
      "37    -1.0\n",
      "38    11.0\n",
      "39    18.0\n",
      "40    -1.0\n",
      "dtype: float64\n"
     ]
    }
   ],
   "source": [
    "\n"
   ]
  },
  {
   "cell_type": "code",
   "execution_count": 97,
   "metadata": {},
   "outputs": [],
   "source": [
    "\n",
    "# agreement_df.to_csv(score_filename)\n",
    "match_to_ks = match_to_ks.rename('match')\n",
    "match_to_ks.to_csv(match_filename) # header=False\n"
   ]
  },
  {
   "cell_type": "code",
   "execution_count": 80,
   "metadata": {},
   "outputs": [
    {
     "name": "stdout",
     "output_type": "stream",
     "text": [
      "Relative to Kilosort2:\n",
      "    ks_ind  ic_ind     score\n",
      "0        2       9  0.989676\n",
      "1        3       8  0.816065\n",
      "2        5      10  0.703223\n",
      "3        7      14  0.851179\n",
      "4        8      13  0.924846\n",
      "5       11      17  0.735485\n",
      "6       12      20  0.651452\n",
      "7       16      21  0.962452\n",
      "8       20      27  0.863674\n",
      "9       22      25  0.964706\n",
      "10      23       5  0.773793\n",
      "11      33      33  0.638806\n",
      "12      38      11  0.989510\n",
      "13      39      18  0.525217\n",
      "[ 2  3  5  7  8 11 12 16 20 22 23 33 38 39]\n",
      "UnitsSelectionSorting: 14 units - 1 segments - 30.0kHz\n"
     ]
    }
   ],
   "source": [
    "# Compare two sorters\n",
    "comp_ks_ic = si.compare_two_sorters(sorting1=sorting_ks, sorting2=sorting_ic)  # returns SortingComparison object\n",
    "print('Relative to Kilosort2:')\n",
    "match_to_ks = comp_ks_ic.hungarian_match_12\n",
    "match_to_ic = comp_ks_ic.hungarian_match_21\n",
    "\n",
    "# Save all the best agreement scores for each KS cell (not necessarily the matched scores)\n",
    "# score_df = pd.DataFrame({'ks_ind': range(len(match_to_ks)), 'ic_ind':match_to_ks,'score': comp_ks_ic.agreement_scores.max(axis=1) })\n",
    "score_filename = results_path/'si_score_all.csv'\n",
    "comp_ks_ic.agreement_scores.to_csv(score_filename)\n",
    "\n",
    "# Return the agreement scores just for the matching units\n",
    "# agreement_scores = comp_ks_ic.agreement_scores\n",
    "# ks_ind = np.nonzero([match_to_ks!=-1])[1]\n",
    "# ic_ind = match_to_ks.to_numpy()\n",
    "# ic_ind = ic_ind[match_to_ks!=-1].astype(int)\n",
    "# agreement_scores=agreement_scores.to_numpy()\n",
    "# agreement_scores_match = agreement_scores[(ks_ind,ic_ind)]\n",
    "# agreement_df = pd.DataFrame({'ks_ind': ks_ind, 'ic_ind': ic_ind, 'score':  agreement_scores_match} )\n",
    "# pprint(agreement_df)\n",
    "\n",
    "# score_filename = results_path/'si_score_match.csv'\n",
    "# agreement_df.to_csv(score_filename)\n",
    "match_to_ks = match_to_ks.rename('match')\n",
    "match_filename = results_path/'si_match.csv'\n",
    "match_to_ks.to_csv(match_filename) # header=False\n",
    "\n",
    "# Select only the matched units from the kilosort sorting\n",
    "ks_ind = np.nonzero([match_to_ks!=-1])[1]\n",
    "print(ks_ind)\n",
    "sorting_clean = sorting_ks.select_units(ks_ind)\n",
    "print(sorting_clean)\n",
    "\n",
    "# Get waveforms\n",
    "waveform_folder = results_path/('clean_waveforms'+sub)\n",
    "we = si.extract_waveforms(recording_cmr, sorting_clean, waveform_folder,return_scaled=True, overwrite=True,\n",
    "    n_jobs=n_jobs, chunk_duration=chunk_duration, max_spikes_per_unit=max_spikes_per_unit,ms_before=ms_before, ms_after=ms_after)\n",
    "\n",
    "# Export to Phy\n",
    "phy_folder = results_path/('clean_phy'+sub)\n",
    "we.recording = recording_raw # Just do this so that the path to the raw .dat file is stored in params.py\n",
    "si.export_to_phy(we, output_folder=phy_folder,remove_if_exists=True,copy_binary=False,compute_amplitudes=True,\n",
    "    max_channels_per_template=max_ch_per_template, chunk_duration=chunk_duration, n_jobs=n_jobs)"
   ]
  },
  {
   "cell_type": "markdown",
   "metadata": {},
   "source": [
    "Option 2: Find consensus"
   ]
  },
  {
   "cell_type": "code",
   "execution_count": null,
   "metadata": {},
   "outputs": [],
   "source": [
    "%%script false \n",
    "comp_intersection = si.compare_multiple_sorters(sorting_list=[sorting_ks, sorting_ic],\n",
    "    name_list=['ks', 'ic'], spiketrain_mode='intersection',n_jobs=-1)\n",
    "\n",
    "output_folder_intersect = results_path/('intersect_output'+sub)\n",
    "sorting_agreement = comp_intersection.get_agreement_sorting(minimum_agreement_count=2)\n",
    "sorting_agreement = sorting_agreement.save(folder=output_folder_intersect)\n",
    "\n",
    "# Get waveforms\n",
    "waveform_folder = results_path/('intersect_waveforms'+sub)\n",
    "si.extract_waveforms(recording_cmr, sorting_agreement, waveform_folder,ms_before=ms_before, ms_after=ms_after,\n",
    "    n_jobs=n_jobs, chunk_duration=chunk_duration, max_spikes_per_unit=max_spikes_per_unit, return_scaled=True, overwrite=True)\n",
    "we = si.WaveformExtractor.load_from_folder(waveform_folder)\n",
    "\n",
    "# Export to Phy\n",
    "phy_folder = results_path/('intersect_phy'+sub)\n",
    "we.recording = recording_raw # Just do this so that the path to the raw .dat file is stored in params.py\n",
    "si.export_to_phy(we, output_folder=phy_folder,remove_if_exists=False,copy_binary=False,compute_amplitudes=True,\n",
    "    max_channels_per_template=max_ch_per_template, chunk_duration=chunk_duration, n_jobs=n_jobs)\n"
   ]
  },
  {
   "cell_type": "code",
   "execution_count": 47,
   "metadata": {},
   "outputs": [
    {
     "name": "stdout",
     "output_type": "stream",
     "text": [
      "Units in agreement, intersect: [ 2  3  5  7  8 11 12 16 20 22 23 33 38 39]\n"
     ]
    },
    {
     "data": {
      "application/vnd.jupyter.widget-view+json": {
       "model_id": "d662c0c05ce14970a9fac9ec186a9380",
       "version_major": 2,
       "version_minor": 0
      },
      "image/png": "[encoded data removed]",
      "text/html": [
       "\n",
       "            <div style=\"display: inline-block;\">\n",
       "                <div class=\"jupyter-widgets widget-label\" style=\"text-align: center;\">\n",
       "                    Figure\n",
       "                </div>\n",
       "                <img src='data:image/png;base64,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' width=100.0/>\n",
       "            </div>\n",
       "        "
      ],
      "text/plain": [
       "Canvas(toolbar=Toolbar(toolitems=[('Home', 'Reset original view', 'home', 'home'), ('Back', 'Back to previous …"
      ]
     },
     "metadata": {},
     "output_type": "display_data"
    }
   ],
   "source": [
    "%%script false --no-raise-error\n",
    "\n",
    "# Load union and intersects\n",
    "output_folder_intersect = results_path/'intersect_output'\n",
    "sorting_agreement = si.load_extractor(output_folder_intersect)\n",
    "print('Units in agreement, intersect:', sorting_agreement.get_unit_ids())\n",
    "\n",
    "# Plot matching results\n",
    "# np.close('all')\n",
    "fig,ax = plt.subplots(1,1,figsize=[1,3])\n",
    "ax.axis('equal')\n",
    "w = si.plot_multicomp_agreement(comp_intersection,ax=ax)\n"
   ]
  },
  {
   "cell_type": "markdown",
   "metadata": {},
   "source": [
    "Example: Quality metrics & automatic curation for single sorter"
   ]
  },
  {
   "cell_type": "code",
   "execution_count": null,
   "metadata": {},
   "outputs": [],
   "source": [
    "%%script false\n",
    "waveform_folder = results_path/'kilosort2_waveforms'\n",
    "\n",
    "# Load waveforms\n",
    "we = si.WaveformExtractor.load_from_folder(waveform_folder) # Only needed if picking up from here\n",
    "\n",
    "# Specifiy quality metrics\n",
    "print(si.get_quality_metric_list())\n",
    "metric_names=['snr', 'isi_violation', 'amplitude_cutoff','isolation_distance','firing_rate']\n",
    "# NOTE: isi_violations_rate: \"Rate of contaminating spikes as a fraction of overall rate. Higher values indicate more contamination\" (== #sp_bad/#sp_total)\n",
    "# Q: how to set bin width and refractory period for ISI violations?\n",
    "\n",
    "# Compute quality metrics\n",
    "qm = si.compute_quality_metrics(we,load_if_exists=True,metric_names=metric_names)\n",
    "pprint(qm)\n",
    "\n",
    "# Plot quality metrics\n",
    "si.plot_quality_metrics(we, include_metrics=[\"amplitude_cutoff\", \"isi_violations_rate\",\"firing_rate\"])\n",
    "\n",
    "# Screen sorting based on quality metrics\n",
    "firing_rate_cutoff = 50\n",
    "isi_viol_thresh =  0.1 # 0.2 is KS2 default\n",
    "amplitude_cutoff_thresh = 0.05\n",
    "our_query = f\"firing_rate < {firing_rate_cutoff} & isi_violations_rate < {isi_viol_thresh} & amplitude_cutoff < {amplitude_cutoff_thresh} \"\n",
    "\n",
    "qm_keep = qm.query(our_query)\n",
    "keep_unit_ids = qm_keep.index.values\n",
    "sorting_clean = we.sorting.select_units(keep_unit_ids)\n",
    "print(sorting)\n",
    "print(sorting_clean)"
   ]
  },
  {
   "cell_type": "markdown",
   "metadata": {},
   "source": [
    "Launch phy"
   ]
  },
  {
   "cell_type": "code",
   "execution_count": null,
   "metadata": {},
   "outputs": [],
   "source": [
    "%%script false # don't run this cell!\n",
    "\n",
    "# Launch Phy\n",
    "phy_folder = results_path/'clean_phy'\n",
    "from phy.apps.template import template_gui\n",
    "template_gui(phy_folder/'params.py')"
   ]
  },
  {
   "cell_type": "markdown",
   "metadata": {},
   "source": [
    "Parking lot"
   ]
  },
  {
   "cell_type": "code",
   "execution_count": null,
   "metadata": {},
   "outputs": [],
   "source": [
    "%%script false # don't run this cell!\n",
    "\n",
    "# Check data type of .npy file\n",
    "from pprint import pprint\n",
    "from pathlib import Path\n",
    "import numpy as np\n",
    "# file = Path(r\"D:\\hannah\\Dropbox\\code\\spikesort\\spikesort-hp\\results\\kilosort2_waveforms\\spike_amplitudes\\amplitude_segment_0.npy\")\n",
    "file = Path(r\"Z:\\Hannah\\ephys\\project2\\HC05_220819\\intersect_waveforms\\spike_amplitudes\\amplitude_segment_0.npy\")\n",
    "print(file)\n",
    "temp = np.load(file)\n",
    "print(type(temp))\n",
    "print(type(temp[0]))\n",
    "pprint(temp)\n",
    "np.shape(temp)\n",
    "\n",
    "Check channel gains in recording\n",
    "print(recording_raw.get_channel_gains())\n",
    "print(recording_cmr.get_channel_gains())\n",
    "print(phy_folder)\n",
    "\n",
    "print(list(recording_raw.get_property_keys()))\n",
    "print(list(sorting_agreement_intersect.get_property_keys()))\n",
    "pprint(sorting_agreement_intersect.get_property(key='avg_agreement'))\n",
    "pprint(sorting_agreement_intersect.get_property(key='unit_ids'))\n",
    "\n",
    "\n",
    "# Example of loading the curated phy output back in and selecting units marked \"good\"\n",
    "sorting_phy = si.PhySortingExtractor('path-to-phy-folder', exclude_cluster_groups=['noise'])\n",
    "good_ks_units = []\n",
    "for u in sorting_phy.get_unit_ids():\n",
    "    if sorting_phy.get_unit_property(u, 'KSLabel') == 'good':\n",
    "        good_ks_units.append(u)        \n",
    "sorting_ks_good = sorting_phy.select_units(good_ks_units)\n"
   ]
  }
 ],
 "metadata": {
  "kernelspec": {
   "display_name": "Python 3 (ipykernel)",
   "language": "python",
   "name": "python3"
  },
  "language_info": {
   "codemirror_mode": {
    "name": "ipython",
    "version": 3
   },
   "file_extension": ".py",
   "mimetype": "text/x-python",
   "name": "python",
   "nbconvert_exporter": "python",
   "pygments_lexer": "ipython3",
   "version": "3.9.13"
  },
  "vscode": {
   "interpreter": {
    "hash": "e87c389955eb3b5496154ae0f9a13093fb0f1de7e15261958ba371a00cba5d1b"
   }
  }
 },
 "nbformat": 4,
 "nbformat_minor": 2
}
