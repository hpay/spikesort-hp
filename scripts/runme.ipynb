{
 "cells": [
  {
   "cell_type": "markdown",
   "metadata": {},
   "source": [
    "# Setup"
   ]
  },
  {
   "cell_type": "code",
   "execution_count": 1,
   "metadata": {},
   "outputs": [
    {
     "name": "stdout",
     "output_type": "stream",
     "text": [
      "Setting KILOSORT2_PATH environment variable for subprocess calls to: D:\\hannah\\Dropbox\\code\\spikesort\\kilosort-2.0\n",
      "Setting IRONCLUST_PATH environment variable for subprocess calls to: D:\\hannah\\Dropbox\\code\\spikesort\\ironclust\n",
      "RUNNING SHELL SCRIPT: C:\\Users\\Hannah\\AppData\\Local\\Temp\\tmp_shellscriptsbkqfb3r\\script.bat\n",
      "RUNNING SHELL SCRIPT: C:\\Users\\Hannah\\AppData\\Local\\Temp\\tmp_shellscriptjuuaf_p8\\script.bat\n",
      "RUNNING SHELL SCRIPT: C:\\Users\\Hannah\\AppData\\Local\\Temp\\tmp_shellscriptrmh70el4\\script.bat\n",
      "RUNNING SHELL SCRIPT: C:\\Users\\Hannah\\AppData\\Local\\Temp\\tmp_shellscriptxxel0j3s\\script.bat\n",
      "RUNNING SHELL SCRIPT: C:\\Users\\Hannah\\AppData\\Local\\Temp\\tmp_shellscriptcuumf351\\script.bat\n",
      "RUNNING SHELL SCRIPT: C:\\Users\\Hannah\\AppData\\Local\\Temp\\tmp_shellscriptrwzfmqj_\\script.bat\n",
      "RUNNING SHELL SCRIPT: C:\\Users\\Hannah\\AppData\\Local\\Temp\\tmp_shellscriptm0ldp10z\\script.bat\n",
      "RUNNING SHELL SCRIPT: C:\\Users\\Hannah\\AppData\\Local\\Temp\\tmp_shellscriptn6npk9i8\\script.bat\n",
      "['ironclust', 'kilosort2', 'spykingcircus2', 'tridesclous', 'tridesclous2']\n",
      "SpikeInterface version: 0.95.1.dev0\n"
     ]
    }
   ],
   "source": [
    "from pathlib import Path\n",
    "import platform\n",
    "import os\n",
    "import shutil\n",
    "import time\n",
    "import matplotlib.pylab as plt\n",
    "\n",
    "import spikeinterface.sorters as ss\n",
    "import spikeinterface.full as si\n",
    "\n",
    "# may need to run pip install\n",
    "\n",
    "# Add path to kilosort2 and ironclust repos\n",
    "si.Kilosort2Sorter.set_kilosort2_path(Path.resolve(Path('../../Kilosort-2.0')))\n",
    "si.IronClustSorter.set_ironclust_path(Path.resolve(Path('../../ironclust')))\n",
    "\n",
    "print(ss.installed_sorters())\n",
    "print(f\"SpikeInterface version: {si.__version__}\")"
   ]
  },
  {
   "cell_type": "markdown",
   "metadata": {},
   "source": [
    "Set paths that are used throughout: results and data"
   ]
  },
  {
   "cell_type": "code",
   "execution_count": 2,
   "metadata": {},
   "outputs": [
    {
     "name": "stdout",
     "output_type": "stream",
     "text": [
      "D:\\hannah\\Dropbox\\code\\spikesort\\spikesort-hp\\results\n",
      "D:\\hannah\\Dropbox\\code\\spikesort\\spikesort-hp\\results\\toy_example_recording\n"
     ]
    }
   ],
   "source": [
    "results_path = Path.resolve(Path('..','results')) \n",
    "print(results_path)\n",
    "data_path = results_path/'toy_example_recording'\n",
    "print(data_path)\n"
   ]
  },
  {
   "cell_type": "markdown",
   "metadata": {},
   "source": [
    "Make toy example recording data in the results folder:"
   ]
  },
  {
   "cell_type": "code",
   "execution_count": 3,
   "metadata": {},
   "outputs": [
    {
     "name": "stdout",
     "output_type": "stream",
     "text": [
      "Toy data already exists\n",
      "D:\\hannah\\Dropbox\\code\\spikesort\\spikesort-hp\\results\\toy_example_recording\n"
     ]
    }
   ],
   "source": [
    "if not data_path.exists():\n",
    "    rec, sorting = si.toy_example(num_segments=1, duration=100, seed=1, num_channels=16, num_columns=2)\n",
    "    rec.save(folder=data_path)\n",
    "    print('Created toy data')\n",
    "else:\n",
    "    print('Toy data already exists')\n",
    "print(data_path)"
   ]
  },
  {
   "cell_type": "markdown",
   "metadata": {},
   "source": [
    "Load the recording extractor"
   ]
  },
  {
   "cell_type": "code",
   "execution_count": 4,
   "metadata": {},
   "outputs": [
    {
     "data": {
      "text/plain": [
       "BinaryFolderRecording: 16 channels - 1 segments - 30.0kHz - 100.000s"
      ]
     },
     "execution_count": 4,
     "metadata": {},
     "output_type": "execute_result"
    }
   ],
   "source": [
    "rec = si.load_extractor(data_path)\n",
    "rec"
   ]
  },
  {
   "cell_type": "markdown",
   "metadata": {},
   "source": [
    "# Run spikesorting\n",
    "Run Kilosort on the test data: \n",
    "\n",
    "Note: make sure your startup.m file in Matlab doesn't change the current directory!"
   ]
  },
  {
   "cell_type": "code",
   "execution_count": null,
   "metadata": {},
   "outputs": [],
   "source": [
    "# Check out kilosort params\n",
    "si.get_default_sorter_params('kilosort2')"
   ]
  },
  {
   "cell_type": "markdown",
   "metadata": {},
   "source": [
    "Change Kilosort2 params"
   ]
  },
  {
   "cell_type": "code",
   "execution_count": null,
   "metadata": {},
   "outputs": [],
   "source": [
    "# Change params\n",
    "default_kilosort2_params = si.Kilosort2Sorter.default_params()\n",
    "print(default_kilosort2_params)\n",
    "#default_kilosort2_params['freq_min'] = 300\n",
    "# default_kilosort2_params['minFR'] = 0\n",
    "# default_kilosort2_params['minfr_goodchannels'] = 0\n",
    "# default_kilosort2_params['keep_good_only'] = True\n",
    "\n",
    "# Can't use these?\n",
    "#default_kilosort2_params['reorder'] = 0 \n",
    "#default_kilosort2_params['CAR'] = 1\n",
    "\n",
    "print(default_kilosort2_params)\n"
   ]
  },
  {
   "cell_type": "code",
   "execution_count": null,
   "metadata": {},
   "outputs": [],
   "source": [
    "# Run sorter\n",
    "sorter_name = 'kilosort2'\n",
    "output_folder = results_path/(sorter_name+'_output')\n",
    "print(output_folder)\n",
    "\n",
    "sorting = si.run_sorter(sorter_name, rec, output_folder, verbose=True, remove_existing_folder=True, **default_kilosort2_params)\n",
    "\n",
    "# Get waveforms\n",
    "waveform_folder = results_path/(sorter_name+'_waveforms')\n",
    "print(waveform_folder)\n",
    "si.extract_waveforms(rec, sorting, waveform_folder,\n",
    "    n_jobs=1, total_memory=\"10M\", max_spikes_per_unit=500, return_scaled=False, overwrite=True)\n",
    "\n",
    "# Export to Phy\n",
    "we = si.WaveformExtractor.load_from_folder(waveform_folder)\n",
    "phy_folder =  results_path/(sorter_name+'_phy')\n",
    "print(phy_folder)\n",
    "si.export_to_phy(we, output_folder=phy_folder, verbose=False, remove_if_exists=True)\n",
    "\n",
    "print(sorting)"
   ]
  },
  {
   "cell_type": "code",
   "execution_count": null,
   "metadata": {},
   "outputs": [],
   "source": [
    "# Run sorter\n",
    "sorter_name = 'ironclust'\n",
    "output_folder = results_path/(sorter_name+'_output')\n",
    "print(output_folder)\n",
    "sorting = si.run_sorter(sorter_name, rec, output_folder, verbose=True, remove_existing_folder=True)\n",
    "\n",
    "# Get waveforms\n",
    "waveform_folder = results_path/(sorter_name+'_waveforms')\n",
    "print(waveform_folder)\n",
    "si.extract_waveforms(rec, sorting, waveform_folder,\n",
    "    n_jobs=1, total_memory=\"10M\", max_spikes_per_unit=500, return_scaled=False, overwrite=True)\n",
    "\n",
    "# Export to Phy\n",
    "we = si.WaveformExtractor.load_from_folder(waveform_folder)\n",
    "phy_folder = results_path/(sorter_name+'_phy')\n",
    "print(phy_folder)\n",
    "si.export_to_phy(we, output_folder=phy_folder, verbose=False, remove_if_exists=True)"
   ]
  },
  {
   "cell_type": "markdown",
   "metadata": {},
   "source": [
    "# Post-processing\n",
    "Calculate quality metrics for each sorter"
   ]
  },
  {
   "cell_type": "code",
   "execution_count": null,
   "metadata": {},
   "outputs": [],
   "source": [
    "# Load waveforms\n",
    "we_ks = si.WaveformExtractor.load_from_folder(results_path/'kilosort2_waveforms')\n",
    "we_ic = si.WaveformExtractor.load_from_folder(results_path/'ironclust_waveforms')\n",
    "\n",
    "# Compute quality metrics\n",
    "metric_names=['snr', 'isi_violation', 'amplitude_cutoff','isolation_distance']\n",
    "metrics_ks = si.compute_quality_metrics(we_ks, metric_names)\n",
    "metrics_ic = si.compute_quality_metrics(we_ic, metric_names)\n",
    "print(metrics_ks)\n",
    "print(metrics_ic)\n",
    "\n",
    "#assert 'isolation_distance' in metrics_ks.columns\n",
    "# not sure why isolation distance isn't showing up for ic\n"
   ]
  },
  {
   "cell_type": "markdown",
   "metadata": {},
   "source": [
    "# Compare sorters"
   ]
  },
  {
   "cell_type": "code",
   "execution_count": 5,
   "metadata": {},
   "outputs": [
    {
     "name": "stdout",
     "output_type": "stream",
     "text": [
      "Relative to Kilosort2:\n",
      "0     1.0\n",
      "1     2.0\n",
      "2    -1.0\n",
      "3     3.0\n",
      "4     4.0\n",
      "5    -1.0\n",
      "6     5.0\n",
      "7     6.0\n",
      "8     7.0\n",
      "9     8.0\n",
      "10   -1.0\n",
      "dtype: float64\n",
      "Relative to Ironclust:\n",
      "0   -1.0\n",
      "1    0.0\n",
      "2    1.0\n",
      "3    3.0\n",
      "4    4.0\n",
      "5    6.0\n",
      "6    7.0\n",
      "7    8.0\n",
      "8    9.0\n",
      "dtype: float64\n"
     ]
    }
   ],
   "source": [
    "# Load sorting\n",
    "sorting_ks = si.read_phy(results_path/'kilosort2_phy')\n",
    "sorting_ic = si.read_phy(results_path/'ironclust_phy')\n",
    "\n",
    "comp_ks_ic = si.compare_two_sorters(sorting1=sorting_ks, sorting2=sorting_ic)\n",
    "comp_multi = si.compare_multiple_sorters(sorting_list=[sorting_ks, sorting_ic],\n",
    "                                         name_list=['ks', 'ic'])\n",
    "\n",
    "print('Relative to Kilosort2:')\n",
    "print(comp_ks_ic.hungarian_match_12)\n",
    "\n",
    "print('Relative to Ironclust:')\n",
    "print(comp_ks_ic.hungarian_match_21)\n"
   ]
  },
  {
   "cell_type": "code",
   "execution_count": 6,
   "metadata": {},
   "outputs": [
    {
     "name": "stdout",
     "output_type": "stream",
     "text": [
      "Units in agreement: [0 1 3 4 6 7 8 9]\n"
     ]
    }
   ],
   "source": [
    "sorting_ks = si.read_phy(results_path/'kilosort2_phy')\n",
    "sorting_ic = si.read_phy(results_path/'ironclust_phy')\n",
    "\n",
    "sorting_agreement = comp_multi.get_agreement_sorting(minimum_agreement_count=2)\n",
    "print('Units in agreement:', sorting_agreement.get_unit_ids())\n",
    "# w_multi = si.plot_multicomp_graph(comp_multi)\n",
    "# plt.show() # not working correctly"
   ]
  },
  {
   "cell_type": "code",
   "execution_count": null,
   "metadata": {},
   "outputs": [],
   "source": [
    "for ii in range(0,40):\n",
    "    try:\n",
    "        os.close(ii)\n",
    "        print('Closed a file!')\n",
    "    except:\n",
    "        print('did nothing')\n"
   ]
  },
  {
   "cell_type": "markdown",
   "metadata": {},
   "source": [
    "Export consensus agreement to Phy"
   ]
  },
  {
   "cell_type": "code",
   "execution_count": 9,
   "metadata": {},
   "outputs": [
    {
     "name": "stdout",
     "output_type": "stream",
     "text": [
      "D:\\hannah\\Dropbox\\code\\spikesort\\spikesort-hp\\results\\consensus_waveforms2\n"
     ]
    },
    {
     "data": {
      "text/plain": [
       "WaveformExtractor: 16 channels - 8 units - 1 segments\n",
       "  before:90 after:120 n_per_units:500"
      ]
     },
     "execution_count": 9,
     "metadata": {},
     "output_type": "execute_result"
    }
   ],
   "source": [
    "# Get waveforms\n",
    "waveform_folder = results_path/'consensus_waveforms2'\n",
    "print(waveform_folder)\n",
    "\n",
    "# multisortingcomparison=True\n",
    "si.extract_waveforms(rec, sorting_agreement, waveform_folder,\n",
    "    n_jobs=1, total_memory=\"10M\", max_spikes_per_unit=500, return_scaled=False, overwrite=True)\n"
   ]
  },
  {
   "cell_type": "code",
   "execution_count": 14,
   "metadata": {},
   "outputs": [
    {
     "ename": "TypeError",
     "evalue": "__init__() missing 2 required positional arguments: 'sampling_frequency' and 'multisortingcomparison'",
     "output_type": "error",
     "traceback": [
      "\u001b[1;31m---------------------------------------------------------------------------\u001b[0m",
      "\u001b[1;31mTypeError\u001b[0m                                 Traceback (most recent call last)",
      "Cell \u001b[1;32mIn [14], line 2\u001b[0m\n\u001b[0;32m      1\u001b[0m \u001b[38;5;66;03m# Export to Phy\u001b[39;00m\n\u001b[1;32m----> 2\u001b[0m we \u001b[38;5;241m=\u001b[39m \u001b[43msi\u001b[49m\u001b[38;5;241;43m.\u001b[39;49m\u001b[43mWaveformExtractor\u001b[49m\u001b[38;5;241;43m.\u001b[39;49m\u001b[43mload_from_folder\u001b[49m\u001b[43m(\u001b[49m\u001b[43mwaveform_folder\u001b[49m\u001b[43m)\u001b[49m\n",
      "File \u001b[1;32md:\\hannah\\dropbox\\code\\spikesort\\spikeinterface\\spikeinterface\\core\\waveform_extractor.py:98\u001b[0m, in \u001b[0;36mWaveformExtractor.load_from_folder\u001b[1;34m(cls, folder)\u001b[0m\n\u001b[0;32m     95\u001b[0m \u001b[39massert\u001b[39;00m folder\u001b[39m.\u001b[39mis_dir(), \u001b[39mf\u001b[39m\u001b[39m'\u001b[39m\u001b[39mThis folder does not exists \u001b[39m\u001b[39m{\u001b[39;00mfolder\u001b[39m}\u001b[39;00m\u001b[39m'\u001b[39m\n\u001b[0;32m     96\u001b[0m recording \u001b[39m=\u001b[39m load_extractor(folder \u001b[39m/\u001b[39m \u001b[39m'\u001b[39m\u001b[39mrecording.json\u001b[39m\u001b[39m'\u001b[39m,\n\u001b[0;32m     97\u001b[0m                            base_folder\u001b[39m=\u001b[39mfolder)\n\u001b[1;32m---> 98\u001b[0m sorting \u001b[39m=\u001b[39m load_extractor(folder \u001b[39m/\u001b[39;49m \u001b[39m'\u001b[39;49m\u001b[39msorting.json\u001b[39;49m\u001b[39m'\u001b[39;49m,\n\u001b[0;32m     99\u001b[0m                          base_folder\u001b[39m=\u001b[39;49mfolder)\n\u001b[0;32m    100\u001b[0m we \u001b[39m=\u001b[39m \u001b[39mcls\u001b[39m(recording, sorting, folder)\n\u001b[0;32m    102\u001b[0m \u001b[39mfor\u001b[39;00m mode \u001b[39min\u001b[39;00m _possible_template_modes:\n\u001b[0;32m    103\u001b[0m     \u001b[39m# load cached templates\u001b[39;00m\n",
      "File \u001b[1;32md:\\hannah\\dropbox\\code\\spikesort\\spikeinterface\\spikeinterface\\core\\base.py:899\u001b[0m, in \u001b[0;36mload_extractor\u001b[1;34m(file_or_folder_or_dict, base_folder)\u001b[0m\n\u001b[0;32m    897\u001b[0m     \u001b[39mreturn\u001b[39;00m BaseExtractor\u001b[39m.\u001b[39mfrom_dict(file_or_folder_or_dict, base_folder\u001b[39m=\u001b[39mbase_folder)\n\u001b[0;32m    898\u001b[0m \u001b[39melse\u001b[39;00m:\n\u001b[1;32m--> 899\u001b[0m     \u001b[39mreturn\u001b[39;00m BaseExtractor\u001b[39m.\u001b[39;49mload(file_or_folder_or_dict, base_folder\u001b[39m=\u001b[39;49mbase_folder)\n",
      "File \u001b[1;32md:\\hannah\\dropbox\\code\\spikesort\\spikeinterface\\spikeinterface\\core\\base.py:538\u001b[0m, in \u001b[0;36mBaseExtractor.load\u001b[1;34m(file_path, base_folder)\u001b[0m\n\u001b[0;32m    536\u001b[0m         \u001b[39mprint\u001b[39m(\u001b[39m'\u001b[39m\u001b[39mThe extractor was not dumpable\u001b[39m\u001b[39m'\u001b[39m)\n\u001b[0;32m    537\u001b[0m         \u001b[39mreturn\u001b[39;00m \u001b[39mNone\u001b[39;00m\n\u001b[1;32m--> 538\u001b[0m     extractor \u001b[39m=\u001b[39m BaseExtractor\u001b[39m.\u001b[39;49mfrom_dict(d, base_folder\u001b[39m=\u001b[39;49mbase_folder)\n\u001b[0;32m    539\u001b[0m     \u001b[39mreturn\u001b[39;00m extractor\n\u001b[0;32m    541\u001b[0m \u001b[39melif\u001b[39;00m file_path\u001b[39m.\u001b[39mis_dir():\n\u001b[0;32m    542\u001b[0m     \u001b[39m# case from a folder after a calling extractor.save(...)\u001b[39;00m\n",
      "File \u001b[1;32md:\\hannah\\dropbox\\code\\spikesort\\spikeinterface\\spikeinterface\\core\\base.py:365\u001b[0m, in \u001b[0;36mBaseExtractor.from_dict\u001b[1;34m(d, base_folder)\u001b[0m\n\u001b[0;32m    363\u001b[0m     \u001b[39massert\u001b[39;00m base_folder \u001b[39mis\u001b[39;00m \u001b[39mnot\u001b[39;00m \u001b[39mNone\u001b[39;00m, \u001b[39m'\u001b[39m\u001b[39mWhen  relative_paths=True, need to provide base_folder\u001b[39m\u001b[39m'\u001b[39m\n\u001b[0;32m    364\u001b[0m     d \u001b[39m=\u001b[39m _make_paths_absolute(d, base_folder)\n\u001b[1;32m--> 365\u001b[0m extractor \u001b[39m=\u001b[39m _load_extractor_from_dict(d)\n\u001b[0;32m    366\u001b[0m folder_metadata \u001b[39m=\u001b[39m d\u001b[39m.\u001b[39mget(\u001b[39m'\u001b[39m\u001b[39mfolder_metadata\u001b[39m\u001b[39m'\u001b[39m, \u001b[39mNone\u001b[39;00m)\n\u001b[0;32m    367\u001b[0m \u001b[39mif\u001b[39;00m folder_metadata \u001b[39mis\u001b[39;00m \u001b[39mnot\u001b[39;00m \u001b[39mNone\u001b[39;00m:\n",
      "File \u001b[1;32md:\\hannah\\dropbox\\code\\spikesort\\spikeinterface\\spikeinterface\\core\\base.py:842\u001b[0m, in \u001b[0;36m_load_extractor_from_dict\u001b[1;34m(dic)\u001b[0m\n\u001b[0;32m    838\u001b[0m     \u001b[39mprint\u001b[39m(\u001b[39m'\u001b[39m\u001b[39mVersions are not the same. This might lead to errors. Use \u001b[39m\u001b[39m'\u001b[39m, class_name\u001b[39m.\u001b[39msplit(\u001b[39m'\u001b[39m\u001b[39m.\u001b[39m\u001b[39m'\u001b[39m)[\u001b[39m0\u001b[39m],\n\u001b[0;32m    839\u001b[0m           \u001b[39m'\u001b[39m\u001b[39mversion\u001b[39m\u001b[39m'\u001b[39m, dic[\u001b[39m'\u001b[39m\u001b[39mversion\u001b[39m\u001b[39m'\u001b[39m])\n\u001b[0;32m    841\u001b[0m \u001b[39m# instantiate extrator object\u001b[39;00m\n\u001b[1;32m--> 842\u001b[0m extractor \u001b[39m=\u001b[39m \u001b[39mcls\u001b[39m(\u001b[39m*\u001b[39m\u001b[39m*\u001b[39mkwargs)\n\u001b[0;32m    844\u001b[0m extractor\u001b[39m.\u001b[39m_annotations\u001b[39m.\u001b[39mupdate(dic[\u001b[39m'\u001b[39m\u001b[39mannotations\u001b[39m\u001b[39m'\u001b[39m])\n\u001b[0;32m    845\u001b[0m \u001b[39mfor\u001b[39;00m k, v \u001b[39min\u001b[39;00m dic[\u001b[39m'\u001b[39m\u001b[39mproperties\u001b[39m\u001b[39m'\u001b[39m]\u001b[39m.\u001b[39mitems():\n\u001b[0;32m    846\u001b[0m     \u001b[39m# print(k, v)\u001b[39;00m\n",
      "\u001b[1;31mTypeError\u001b[0m: __init__() missing 2 required positional arguments: 'sampling_frequency' and 'multisortingcomparison'"
     ]
    }
   ],
   "source": [
    "\n",
    "# Export to Phy\n",
    "we = si.WaveformExtractor.load_from_folder(waveform_folder)"
   ]
  },
  {
   "cell_type": "code",
   "execution_count": null,
   "metadata": {},
   "outputs": [],
   "source": [
    "\n",
    "phy_folder = results_path/'consensus_phy'\n",
    "print(phy_folder)\n",
    "si.export_to_phy(we, output_folder=phy_folder, verbose=False, remove_if_exists=True)"
   ]
  }
 ],
 "metadata": {
  "kernelspec": {
   "display_name": "Python 3.9.13 ('si_env')",
   "language": "python",
   "name": "python3"
  },
  "language_info": {
   "codemirror_mode": {
    "name": "ipython",
    "version": 3
   },
   "file_extension": ".py",
   "mimetype": "text/x-python",
   "name": "python",
   "nbconvert_exporter": "python",
   "pygments_lexer": "ipython3",
   "version": "3.9.13"
  },
  "orig_nbformat": 4,
  "vscode": {
   "interpreter": {
    "hash": "e87c389955eb3b5496154ae0f9a13093fb0f1de7e15261958ba371a00cba5d1b"
   }
  }
 },
 "nbformat": 4,
 "nbformat_minor": 2
}
