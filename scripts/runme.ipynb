{
 "cells": [
  {
   "cell_type": "code",
   "execution_count": 1,
   "metadata": {},
   "outputs": [
    {
     "name": "stdout",
     "output_type": "stream",
     "text": [
      "RUNNING SHELL SCRIPT: C:\\Users\\Hannah\\AppData\\Local\\Temp\\tmp_shellscriptkxpfvlje\\script.bat\n",
      "RUNNING SHELL SCRIPT: C:\\Users\\Hannah\\AppData\\Local\\Temp\\tmp_shellscript5lismrm4\\script.bat\n",
      "RUNNING SHELL SCRIPT: C:\\Users\\Hannah\\AppData\\Local\\Temp\\tmp_shellscriptutg6pwhb\\script.bat\n",
      "RUNNING SHELL SCRIPT: C:\\Users\\Hannah\\AppData\\Local\\Temp\\tmp_shellscripto6seugf0\\script.bat\n",
      "RUNNING SHELL SCRIPT: C:\\Users\\Hannah\\AppData\\Local\\Temp\\tmp_shellscriptd_rkw8sq\\script.bat\n",
      "RUNNING SHELL SCRIPT: C:\\Users\\Hannah\\AppData\\Local\\Temp\\tmp_shellscript42g2ckl9\\script.bat\n",
      "RUNNING SHELL SCRIPT: C:\\Users\\Hannah\\AppData\\Local\\Temp\\tmp_shellscriptoci5mw7s\\script.bat\n",
      "RUNNING SHELL SCRIPT: C:\\Users\\Hannah\\AppData\\Local\\Temp\\tmp_shellscriptqhucxo6s\\script.bat\n",
      "['spykingcircus2', 'tridesclous', 'tridesclous2']\n",
      "SpikeInterface version: 0.95.1.dev0\n"
     ]
    }
   ],
   "source": [
    "from pathlib import Path\n",
    "import platform\n",
    "import os\n",
    "import shutil\n",
    "import time\n",
    "\n",
    "import spikeinterface.sorters as ss\n",
    "import spikeinterface.full as si\n",
    "print(ss.installed_sorters())\n",
    "print(f\"SpikeInterface version: {si.__version__}\")\n"
   ]
  },
  {
   "cell_type": "code",
   "execution_count": 2,
   "metadata": {},
   "outputs": [
    {
     "name": "stdout",
     "output_type": "stream",
     "text": [
      "write_binary_recording with n_jobs = 1 and chunk_size = None\n"
     ]
    },
    {
     "data": {
      "text/plain": [
       "BinaryFolderRecording: 16 channels - 1 segments - 30.0kHz - 100.000s"
      ]
     },
     "execution_count": 2,
     "metadata": {},
     "output_type": "execute_result"
    }
   ],
   "source": [
    "def _clean():\n",
    "    # clean\n",
    "    folders = [\n",
    "        \"kilo2_output\", \"kilo2_waveforms\",\n",
    "        \"tridesclous_output\", \"tridesclous_waveforms\",\n",
    "        \"spykingcircus_output\", \"spykingcircus_waveforms\",\n",
    "        \"phy_example\", \"toy_example_recording\"\n",
    "    ]\n",
    "    for folder in folders:\n",
    "        if Path('results', folder).exists():\n",
    "            shutil.rmtree(Path('results',folder))\n",
    "\n",
    "_clean()\n",
    "rec, sorting = si.toy_example(num_segments=1, duration=100, seed=1, num_channels=16, num_columns=2)\n",
    "rec.save(folder='./results/toy_example_recording')\n"
   ]
  },
  {
   "cell_type": "code",
   "execution_count": 3,
   "metadata": {},
   "outputs": [
    {
     "name": "stdout",
     "output_type": "stream",
     "text": [
      "results/kilosort2_output\n",
      "Setting KILOSORT2_PATH environment variable for subprocess calls to: D:\\hannah\\Dropbox\\alab\\Code\\Kilosort-2.0\n",
      "RUNNING SHELL SCRIPT: C:\\Users\\Hannah\\AppData\\Local\\Temp\\tmp_shellscript7b7nswi9\\script.bat\n"
     ]
    },
    {
     "data": {
      "application/vnd.jupyter.widget-view+json": {
       "model_id": "741e66855ab54824ad9e07d5a04351a9",
       "version_major": 2,
       "version_minor": 0
      },
      "text/plain": [
       "write_binary_recording:   0%|          | 0/100 [00:00<?, ?it/s]"
      ]
     },
     "metadata": {},
     "output_type": "display_data"
    },
    {
     "name": "stdout",
     "output_type": "stream",
     "text": [
      "RUNNING SHELL SCRIPT: C:\\Users\\Hannah\\AppData\\Local\\Temp\\tmp_shellscript7flulpqr\\script.bat\n",
      "RUNNING SHELL SCRIPT: C:\\Users\\Hannah\\AppData\\Local\\Temp\\tmp_shellscriptw3o0cz1m\\script.bat\n",
      "RUNNING SHELL SCRIPT: c:\\Users\\Hannah\\code\\spikesort-hp\\results\\kilosort2_output\\run_kilosort2.bat\n",
      "\n",
      "\n",
      "(si_env) c:\\Users\\Hannah\\code\\spikesort-hp>c:\n",
      "\n",
      "\n",
      "\n",
      "(si_env) c:\\Users\\Hannah\\code\\spikesort-hp>cd c:\\Users\\Hannah\\code\\spikesort-hp\\results\\kilosort2_output \n",
      "\n",
      "\n",
      "\n",
      "(si_env) c:\\Users\\Hannah\\code\\spikesort-hp\\results\\kilosort2_output>matlab -nosplash -wait -r \"kilosort2_master('c:\\Users\\Hannah\\code\\spikesort-hp\\results\\kilosort2_output', 'D:\\hannah\\Dropbox\\alab\\Code\\Kilosort-2.0')\" \n",
      "\n",
      "kilosort2 run time 34.86s\n"
     ]
    },
    {
     "data": {
      "text/plain": [
       "WaveformExtractor: 16 channels - 11 units - 1 segments\n",
       "  before:90 after:120 n_per_units:500"
      ]
     },
     "execution_count": 3,
     "metadata": {},
     "output_type": "execute_result"
    }
   ],
   "source": [
    "sorter_name = 'kilosort2'\n",
    "output_folder=f'results/{sorter_name}_output'\n",
    "print(output_folder)\n",
    "si.Kilosort2Sorter.set_kilosort2_path('D:/hannah/Dropbox/alab/Code/Kilosort-2.0')\n",
    "rec = si.load_extractor('./results/toy_example_recording')\n",
    "#sorting = si.run_kilosort2(sorter_name, rec, output_folder, verbose=True)\n",
    "sorting = si.run_sorter(sorter_name, rec, output_folder, verbose=True)\n",
    "si.extract_waveforms(rec, sorting, f'results/{sorter_name}_waveforms',\n",
    "    n_jobs=1, total_memory=\"10M\", max_spikes_per_unit=500, return_scaled=False)\n"
   ]
  }
 ],
 "metadata": {
  "kernelspec": {
   "display_name": "Python 3.9.13 ('si_env')",
   "language": "python",
   "name": "python3"
  },
  "language_info": {
   "codemirror_mode": {
    "name": "ipython",
    "version": 3
   },
   "file_extension": ".py",
   "mimetype": "text/x-python",
   "name": "python",
   "nbconvert_exporter": "python",
   "pygments_lexer": "ipython3",
   "version": "3.9.13"
  },
  "orig_nbformat": 4,
  "vscode": {
   "interpreter": {
    "hash": "e87c389955eb3b5496154ae0f9a13093fb0f1de7e15261958ba371a00cba5d1b"
   }
  }
 },
 "nbformat": 4,
 "nbformat_minor": 2
}
